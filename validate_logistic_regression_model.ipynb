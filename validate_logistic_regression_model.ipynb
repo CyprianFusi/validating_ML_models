{
 "cells": [
  {
   "cell_type": "markdown",
   "id": "afbbf6c9",
   "metadata": {},
   "source": [
    "### Validating Logistic Regression model: Decile Analysis\n",
    "The main focus of this exercise is to use **decile analysis** to evalute the performance of a **logistic regression** model.\n",
    "This will include **decile chart** and **lift chart** and their visualizations.\n",
    "Binary classifications also use the **Area Under Curve (AUC)** and the **Kolmogorov–Smirnov (KS) distance** to evaluate the model. We shall also calculate and interpret these statistics. "
   ]
  },
  {
   "cell_type": "markdown",
   "id": "d474150d",
   "metadata": {},
   "source": [
    "### Load required packages"
   ]
  },
  {
   "cell_type": "code",
   "execution_count": 1,
   "id": "eeae4e76",
   "metadata": {},
   "outputs": [],
   "source": [
    "import pandas as pd\n",
    "import numpy as np\n",
    "from scipy import stats\n",
    "from statsmodels.formula.api import ols\n",
    "import matplotlib.pyplot as plt\n",
    "import seaborn as sns\n",
    "from sklearn import metrics, linear_model, preprocessing\n",
    "from sklearn.metrics import roc_curve, auc, confusion_matrix\n",
    "from sklearn.model_selection import cross_validate\n",
    "%matplotlib inline\n",
    "\n",
    "sns.set(color_codes = True) \n",
    "import warnings\n",
    "warnings.filterwarnings('ignore')"
   ]
  },
  {
   "cell_type": "markdown",
   "id": "76a4fb7b",
   "metadata": {},
   "source": [
    "### Simple Regression models\n",
    "Let's kick-off with a simple **linear regression** problem so we would be able to see why **logistic regression** is different.\n",
    "\n",
    "It is obvious that eating more would increase a person's weight while workout exercise would lead to a decrease in weight (all things being equal). We will use a simple dataset to develop a model that can be use to predict a person's **weight** given the amount of food intake (**foodintake**) and the number of hours spent in the gym (**workoutime**).\n",
    "\n",
    "#### Load dataset"
   ]
  },
  {
   "cell_type": "code",
   "execution_count": 2,
   "id": "3259b69e",
   "metadata": {},
   "outputs": [
    {
     "data": {
      "text/html": [
       "<div>\n",
       "<style scoped>\n",
       "    .dataframe tbody tr th:only-of-type {\n",
       "        vertical-align: middle;\n",
       "    }\n",
       "\n",
       "    .dataframe tbody tr th {\n",
       "        vertical-align: top;\n",
       "    }\n",
       "\n",
       "    .dataframe thead th {\n",
       "        text-align: right;\n",
       "    }\n",
       "</style>\n",
       "<table border=\"1\" class=\"dataframe\">\n",
       "  <thead>\n",
       "    <tr style=\"text-align: right;\">\n",
       "      <th></th>\n",
       "      <th>Person_ID</th>\n",
       "      <th>Workouttime</th>\n",
       "      <th>Foodintake</th>\n",
       "      <th>Weight</th>\n",
       "    </tr>\n",
       "  </thead>\n",
       "  <tbody>\n",
       "    <tr>\n",
       "      <th>0</th>\n",
       "      <td>1</td>\n",
       "      <td>30</td>\n",
       "      <td>0.6</td>\n",
       "      <td>73</td>\n",
       "    </tr>\n",
       "    <tr>\n",
       "      <th>1</th>\n",
       "      <td>2</td>\n",
       "      <td>0</td>\n",
       "      <td>1.2</td>\n",
       "      <td>92</td>\n",
       "    </tr>\n",
       "    <tr>\n",
       "      <th>2</th>\n",
       "      <td>3</td>\n",
       "      <td>10</td>\n",
       "      <td>0.8</td>\n",
       "      <td>80</td>\n",
       "    </tr>\n",
       "  </tbody>\n",
       "</table>\n",
       "</div>"
      ],
      "text/plain": [
       "   Person_ID  Workouttime  Foodintake  Weight\n",
       "0          1           30         0.6      73\n",
       "1          2            0         1.2      92\n",
       "2          3           10         0.8      80"
      ]
     },
     "execution_count": 2,
     "metadata": {},
     "output_type": "execute_result"
    }
   ],
   "source": [
    "path = '../data/body_weight.csv'\n",
    "raw_data = pd.read_csv(path, na_values = 'NA')\n",
    "raw_data.head(3)"
   ]
  },
  {
   "cell_type": "markdown",
   "id": "c695cd38",
   "metadata": {},
   "source": [
    "**I like variable names to in lower case for convinience...**"
   ]
  },
  {
   "cell_type": "code",
   "execution_count": 3,
   "id": "4300044e",
   "metadata": {},
   "outputs": [
    {
     "name": "stdout",
     "output_type": "stream",
     "text": [
      "(31, 4)\n"
     ]
    },
    {
     "data": {
      "text/html": [
       "<div>\n",
       "<style scoped>\n",
       "    .dataframe tbody tr th:only-of-type {\n",
       "        vertical-align: middle;\n",
       "    }\n",
       "\n",
       "    .dataframe tbody tr th {\n",
       "        vertical-align: top;\n",
       "    }\n",
       "\n",
       "    .dataframe thead th {\n",
       "        text-align: right;\n",
       "    }\n",
       "</style>\n",
       "<table border=\"1\" class=\"dataframe\">\n",
       "  <thead>\n",
       "    <tr style=\"text-align: right;\">\n",
       "      <th></th>\n",
       "      <th>person_id</th>\n",
       "      <th>workouttime</th>\n",
       "      <th>foodintake</th>\n",
       "      <th>weight</th>\n",
       "    </tr>\n",
       "  </thead>\n",
       "  <tbody>\n",
       "    <tr>\n",
       "      <th>0</th>\n",
       "      <td>1</td>\n",
       "      <td>30</td>\n",
       "      <td>0.6</td>\n",
       "      <td>73</td>\n",
       "    </tr>\n",
       "    <tr>\n",
       "      <th>1</th>\n",
       "      <td>2</td>\n",
       "      <td>0</td>\n",
       "      <td>1.2</td>\n",
       "      <td>92</td>\n",
       "    </tr>\n",
       "    <tr>\n",
       "      <th>2</th>\n",
       "      <td>3</td>\n",
       "      <td>10</td>\n",
       "      <td>0.8</td>\n",
       "      <td>80</td>\n",
       "    </tr>\n",
       "  </tbody>\n",
       "</table>\n",
       "</div>"
      ],
      "text/plain": [
       "   person_id  workouttime  foodintake  weight\n",
       "0          1           30         0.6      73\n",
       "1          2            0         1.2      92\n",
       "2          3           10         0.8      80"
      ]
     },
     "execution_count": 3,
     "metadata": {},
     "output_type": "execute_result"
    }
   ],
   "source": [
    "df = raw_data.rename(columns = {'Person_ID': 'Person_ID'.lower(), 'Workouttime': 'Workouttime'.lower()})\n",
    "df = df.rename(columns = {'Foodintake': 'Foodintake'.lower(), 'Weight': 'Weight'.lower()})\n",
    "print(df.shape)\n",
    "df.head(3)"
   ]
  },
  {
   "cell_type": "markdown",
   "id": "668d6fb2",
   "metadata": {},
   "source": [
    "**Generate training data (X_train) and target (y_train)**"
   ]
  },
  {
   "cell_type": "code",
   "execution_count": 4,
   "id": "5f5a528d",
   "metadata": {},
   "outputs": [],
   "source": [
    "X_train = df.drop(['weight', 'person_id'], axis = 1)    # X_train = df['workouttime', 'foodintake']\n",
    "y_train = df.weight"
   ]
  },
  {
   "cell_type": "markdown",
   "id": "60d48dcb",
   "metadata": {},
   "source": [
    "#### Check the distribution of the target variable\n",
    "One of the most important **assumptions of linear regression** is that the **target variable should be normally distributed**. This is because only the **target** variable is considered to be **random**. The independent variable or inputs must not be normally distributed."
   ]
  },
  {
   "cell_type": "code",
   "execution_count": 5,
   "id": "fbb0d94c",
   "metadata": {},
   "outputs": [
    {
     "data": {
      "image/png": "[encoded data removed]",
      "text/plain": [
       "<Figure size 1008x360 with 2 Axes>"
      ]
     },
     "metadata": {},
     "output_type": "display_data"
    }
   ],
   "source": [
    "#sns.displot(y_train)      # `distplot` is a deprecated\n",
    "fig, ax = plt.subplots(1, 2, figsize = (14, 5))\n",
    "stats.probplot(y_train, dist = 'norm', plot = ax[0])                # qq-plot\n",
    "sns.kdeplot(y_train, ax = ax[1])\n",
    "plt.show()"
   ]
  },
  {
   "cell_type": "markdown",
   "id": "79fdb144",
   "metadata": {},
   "source": [
    "From the **qq-plot** and the **kdeplot** we can see that the independent variable or **target** is *somehow* **normally** distributed. The target **Weight** is crowded around the **ideal normally distributed red line**. This means we can safely apply **linear regression** method. \n",
    "\n",
    "### The model"
   ]
  },
  {
   "cell_type": "code",
   "execution_count": 6,
   "id": "17f77345",
   "metadata": {},
   "outputs": [
    {
     "name": "stdout",
     "output_type": "stream",
     "text": [
      "Intercept = 63.4308764464608\n",
      "Coefficients = [-0.17471439 24.46980569]\n"
     ]
    }
   ],
   "source": [
    "lin_reg = linear_model.LinearRegression()          \n",
    "lin_reg.fit(X_train, y_train)                      \n",
    "print(f'Intercept = {lin_reg.intercept_}\\nCoefficients = {lin_reg.coef_}')   "
   ]
  },
  {
   "cell_type": "markdown",
   "id": "e2e54702",
   "metadata": {},
   "source": [
    "* The first coefficient is **negative (-0.17471439)**. This corresponds to **workouttime**. Increase in this input variable would lead to a reduction in the target **weight**. \n",
    "\n",
    "* The second coefficient is **positive (24.46980569)**. This corresponds to **foodintake**. Increase in this input variable would lead to an increase in the target **weight**.\n",
    "\n",
    "* The model can be written as $weight = 24.46980569 x foodintake - 0.17471439 x workouttime + 63.4308764464608$\n",
    "\n",
    "### The prediction function"
   ]
  },
  {
   "cell_type": "code",
   "execution_count": 7,
   "id": "9dba0ec5",
   "metadata": {},
   "outputs": [],
   "source": [
    "def predict_weight(foodintake, workouttime):\n",
    "    return 24.46980569 * foodintake - 0.17471439 * workouttime + 63.4308764464608"
   ]
  },
  {
   "cell_type": "code",
   "execution_count": 8,
   "id": "5cd60af5",
   "metadata": {},
   "outputs": [
    {
     "name": "stdout",
     "output_type": "stream",
     "text": [
      "weight = 72.9\n"
     ]
    }
   ],
   "source": [
    "foodintake, workouttime = 0.6, 30                         # predict the first observation\n",
    "print(f'weight = {round(predict_weight(foodintake, workouttime), 1)}')"
   ]
  },
  {
   "cell_type": "code",
   "execution_count": 9,
   "id": "991b1eec",
   "metadata": {},
   "outputs": [
    {
     "name": "stdout",
     "output_type": "stream",
     "text": [
      "weight = 81.3\n"
     ]
    }
   ],
   "source": [
    "foodintake, workouttime = 0.8, 10                         # predict the 3rd observation\n",
    "print(f'weight = {round(predict_weight(foodintake, workouttime), 1)}')"
   ]
  },
  {
   "cell_type": "markdown",
   "id": "a0807157",
   "metadata": {},
   "source": [
    "#### Get the R-square score\n",
    "**R-square** measures the **predictive power** of the model. It can be calculated using the **`score`** method of the regression object. **R-square** can be calculated manually as follows: \n",
    "\n",
    "$R^2 = \\frac{\\sum{(y_{pred} - \\bar{y}_{pred})^2}}{\\sum{(y - \\bar{y})^2}}$"
   ]
  },
  {
   "cell_type": "code",
   "execution_count": 10,
   "id": "6bd12e7b",
   "metadata": {},
   "outputs": [
    {
     "name": "stdout",
     "output_type": "stream",
     "text": [
      "R^2 = 0.8685312512454116\n"
     ]
    }
   ],
   "source": [
    "print(f'R^2 = {lin_reg.score(X_train, y_train)}')"
   ]
  },
  {
   "cell_type": "markdown",
   "id": "0f61e86e",
   "metadata": {},
   "source": [
    "#### Prediction using our model"
   ]
  },
  {
   "cell_type": "code",
   "execution_count": 11,
   "id": "8803c4ca",
   "metadata": {},
   "outputs": [
    {
     "name": "stdout",
     "output_type": "stream",
     "text": [
      "[72.87132807 92.79464327 81.25957706 70.07687685 84.40639427 75.66577929\n",
      " 70.59808283 71.82402078 92.79464327 68.67720357 81.9594137  73.57116471\n",
      " 66.93201777 86.85337484 83.006721   70.59808283 60.28895457 92.79464327\n",
      " 63.25909925 81.08584174 73.57116471 75.66577929 75.84147275 71.82402078\n",
      " 92.79464327 68.67720357 79.51145407 70.59808283 69.72646899 91.9210713\n",
      " 69.55077553]\n"
     ]
    }
   ],
   "source": [
    "y_pred = lin_reg.predict(X_train)     # predict the target from the training data\n",
    "print(y_pred)"
   ]
  },
  {
   "cell_type": "markdown",
   "id": "66dc549d",
   "metadata": {},
   "source": [
    "### Calculating some statstics\n",
    "* Mean Square Error (MSE)\n",
    "* Mean Square Regression (MSR)\n",
    "* F statistics = MSR/MSE\n",
    "* p value = Prob(f>F)"
   ]
  },
  {
   "cell_type": "code",
   "execution_count": 12,
   "id": "df52a61b",
   "metadata": {},
   "outputs": [
    {
     "name": "stdout",
     "output_type": "stream",
     "text": [
      "F-statistics: 92.489\n",
      "pvalue: 0.0\n",
      "R-square = 0.869\n",
      "\n",
      "At least one of the input variables is correlated with the target and can be used as a predictor for the target\n"
     ]
    }
   ],
   "source": [
    "n = y_train.size                         # total sample size of target variable: len(y_train)\n",
    "m = 2                                    # number of independent variables (Workouttime, Foodintake)\n",
    "dfn = m                                  # degree of freedom for Mean Square Regression (MSR) \n",
    "dfd = n - m - 1                          # degree of freedom for Mean Square Error (MSE)\n",
    "y_avg = np.mean(y_train)                 # mean value of target variable\n",
    "\n",
    "sst = np.sum((y_train - y_avg) ** 2)     # total variance of the target variable\n",
    "sse = np.sum((y_train - y_pred) ** 2)    # total model prediction error\n",
    "ssr = sst - sse                          #\n",
    "\n",
    "mse_model = sse / dfd                    # MSE  (mean value)\n",
    "msr_model = ssr / dfn                    # MSR\n",
    "F = msr_model / mse_model                # if large enough then one of the independent variables can be used in the model\n",
    "\n",
    "p_value = 1.0 - stats.f.cdf(F, dfn, dfd)       # get the p value\n",
    "r_sq = ssr / sst\n",
    "\n",
    "print(f'F-statistics: {round(F, 3)}\\npvalue: {round(p_value, 3)}\\nR-square = {np.round(r_sq, 3)}\\n')\n",
    "\n",
    "alpha = 0.05\n",
    "if p_value <= alpha:\n",
    "    print('At least one of the input variables is correlated with the target and can be used as a predictor for the target')"
   ]
  },
  {
   "cell_type": "markdown",
   "id": "1b773faa",
   "metadata": {},
   "source": [
    "The **p-value: 0.0** is extremely small suggesting that at least one of the independednt variables **(workouttime, foodintake)** can be used in the model to predict the target **weight**.\n",
    "\n",
    "**R-square = 0.869** is high enough to suggest that the model is good.\n",
    "\n",
    "### Confirming the model and key statistics using `ols`\n",
    "**Ordinary Least Square (OLS)** is also a **linear regression** fitting method which can be used to obtain the same model as **scikit learn's** linear regression. However, it gives us **additional statistics** out of the box as we'll see shortly."
   ]
  },
  {
   "cell_type": "code",
   "execution_count": 13,
   "id": "4e3bfd7b",
   "metadata": {},
   "outputs": [
    {
     "name": "stdout",
     "output_type": "stream",
     "text": [
      "                            OLS Regression Results                            \n",
      "==============================================================================\n",
      "Dep. Variable:                 weight   R-squared:                       0.869\n",
      "Model:                            OLS   Adj. R-squared:                  0.859\n",
      "Method:                 Least Squares   F-statistic:                     92.49\n",
      "Date:                Fri, 13 May 2022   Prob (F-statistic):           4.61e-13\n",
      "Time:                        23:13:12   Log-Likelihood:                -83.133\n",
      "No. Observations:                  31   AIC:                             172.3\n",
      "Df Residuals:                      28   BIC:                             176.6\n",
      "Df Model:                           2                                         \n",
      "Covariance Type:            nonrobust                                         \n",
      "===============================================================================\n",
      "                  coef    std err          t      P>|t|      [0.025      0.975]\n",
      "-------------------------------------------------------------------------------\n",
      "Intercept      63.4309      2.530     25.068      0.000      58.248      68.614\n",
      "workouttime    -0.1747      0.035     -5.053      0.000      -0.246      -0.104\n",
      "foodintake     24.4698      2.666      9.178      0.000      19.008      29.931\n",
      "==============================================================================\n",
      "Omnibus:                        0.897   Durbin-Watson:                   2.845\n",
      "Prob(Omnibus):                  0.638   Jarque-Bera (JB):                0.934\n",
      "Skew:                          -0.322   Prob(JB):                        0.627\n",
      "Kurtosis:                       2.444   Cond. No.                         178.\n",
      "==============================================================================\n",
      "\n",
      "Notes:\n",
      "[1] Standard Errors assume that the covariance matrix of the errors is correctly specified.\n"
     ]
    }
   ],
   "source": [
    "model = ols('weight ~ workouttime + foodintake', data = df).fit()\n",
    "print(model.summary())"
   ]
  },
  {
   "cell_type": "code",
   "execution_count": 14,
   "id": "00f9bd60",
   "metadata": {},
   "outputs": [
    {
     "name": "stdout",
     "output_type": "stream",
     "text": [
      "R^2 = 0.8685312512454118\n",
      "Intercept = 63.43087644646078\n",
      "Coef(workouttime) = -0.17471439302124606\n",
      "Coef(foodintake) = 24.469805685788685\n",
      "\n",
      "pvalue(model) = 0.0\n",
      "pvalue(workouttime) = 0.0\n",
      "pvalue(foodintake) = 0.0\n",
      "\n",
      "Input variable workouttime is correlated with the target weight and can be used as a predictor for weight\n",
      "\n",
      "Input variable foodintake is correlated with the target weight and can be used as a predictor for weight\n",
      "\n",
      "Good model\n"
     ]
    }
   ],
   "source": [
    "r_square = model.rsquared\n",
    "print(f'R^2 = {r_square}')\n",
    "\n",
    "intercept = model.params['Intercept']\n",
    "coef_workouttime = model.params['workouttime']\n",
    "coef_foodintake = model.params['foodintake']\n",
    "print(f'Intercept = {intercept}\\nCoef(workouttime) = {coef_workouttime}\\nCoef(foodintake) = {coef_foodintake}\\n')\n",
    "\n",
    "pvalue_workouttime = model.pvalues['workouttime']\n",
    "pvalue_foodintake = model.pvalues['foodintake']\n",
    "pvalue_model = model.f_pvalue\n",
    "print(f'pvalue(model) = {round(pvalue_model, 3)}')\n",
    "print(f'pvalue(workouttime) = {round(pvalue_workouttime, 3)}\\npvalue(foodintake) = {round(pvalue_foodintake, 3)}\\n')\n",
    "\n",
    "alpha = 0.05\n",
    "if pvalue_workouttime <= alpha:\n",
    "    print('Input variable workouttime is correlated with the target weight and can be used as a predictor for weight')\n",
    "else:\n",
    "    print('Input variable workouttime is not correlated with the target weight and cannot be used as a predictor for weight')\n",
    "print() \n",
    "\n",
    "if pvalue_foodintake <= alpha:\n",
    "    print('Input variable foodintake is correlated with the target weight and can be used as a predictor for weight')\n",
    "else:\n",
    "    print('Input variable foodintake is not correlated with the target weight and cannot be used as a predictor for weight')\n",
    "print()\n",
    "\n",
    "if pvalue_model <= alpha:\n",
    "    print('Good model')\n",
    "else:\n",
    "    print('Bad model')"
   ]
  },
  {
   "cell_type": "markdown",
   "id": "8a376316",
   "metadata": {},
   "source": [
    "We can see that the coefficients and statistics obtained using OLS are same as those obtained using scikit learn.\n",
    "\n",
    "**OLS** also outputs a **pvalue** for the model. Here the model pvalue indicates that the model is good.\n",
    "\n",
    "### Visualizations\n",
    "#### Plot of Prediction vs Prediction Error\n",
    "For a good model this plot is expected to be **noisy**, without showing any meaningful relationship."
   ]
  },
  {
   "cell_type": "code",
   "execution_count": 15,
   "id": "0d3a4139",
   "metadata": {},
   "outputs": [],
   "source": [
    "df['pred'] = y_pred\n",
    "df['error'] = df.weight - df.pred\n",
    "residual = y_pred - y_train                # prediction error (noise)"
   ]
  },
  {
   "cell_type": "code",
   "execution_count": 16,
   "id": "67c736d7",
   "metadata": {},
   "outputs": [
    {
     "data": {
      "image/png": "[encoded data removed]",
      "text/plain": [
       "<Figure size 1152x360 with 2 Axes>"
      ]
     },
     "metadata": {},
     "output_type": "display_data"
    }
   ],
   "source": [
    "fig, axes = plt.subplots(1, 2, figsize = (16, 5), sharex = True)\n",
    "sns.scatterplot(x = y_pred, y = residual, ax = axes[0]) \n",
    "sns.regplot(x = 'pred', y = 'error', data = df, fit_reg = True, ax = axes[1])\n",
    "plt.title('Prediction Vs Residual')\n",
    "plt.xlabel('Prediction')\n",
    "plt.ylabel('Error')\n",
    "plt.show()"
   ]
  },
  {
   "cell_type": "markdown",
   "id": "e74b77ad",
   "metadata": {},
   "source": [
    "### Plot of Predictions vs Target \n",
    "This is expected be a **linear relationship** for a good model."
   ]
  },
  {
   "cell_type": "code",
   "execution_count": 17,
   "id": "bcc9736e",
   "metadata": {},
   "outputs": [
    {
     "data": {
      "image/png": "[encoded data removed]",
      "text/plain": [
       "<Figure size 360x360 with 1 Axes>"
      ]
     },
     "metadata": {},
     "output_type": "display_data"
    }
   ],
   "source": [
    "sns.lmplot(x = 'pred', y = 'weight', data = df, fit_reg = True)    # a linear relationship is expected\n",
    "plt.show()"
   ]
  },
  {
   "cell_type": "markdown",
   "id": "8c32b2d2",
   "metadata": {},
   "source": [
    "## Logistic Regression\n",
    "**Logistic Regression** got its name from *logic*, that is (**1 or 0**), since the algorithm is used to predict the target that is a **binary** variable unlike **Linear Regression** which is used when the target is a **continuous** variable. The general form of logistic regression is given by the equation\n",
    "\n",
    "$log(\\frac{p}{1 - p}) = \\beta_0 + \\beta_1x_1 + \\beta_2x_2 + ... + \\beta_mx_m$\n",
    "\n",
    "where $p(x)$ is the probability of the target variable **Y** equaling a **success case** and $1 - p(x)$ is probability of the target variable **Y** equaling a **failure case**. \n",
    "\n",
    "In our case $p(x)$ is the probability of **owner (1)** while $1 - p(x)$ is probability of **not owner (0)**.\n",
    "\n",
    "The dataset for this exercise is very simple, with two independent variables **age** and **income** which determine whether a person owns a house (**owner = 1**) or not (**owner = 0**)."
   ]
  },
  {
   "cell_type": "code",
   "execution_count": 18,
   "id": "112bf890",
   "metadata": {},
   "outputs": [
    {
     "name": "stdout",
     "output_type": "stream",
     "text": [
      "(28, 4)\n"
     ]
    },
    {
     "data": {
      "text/html": [
       "<div>\n",
       "<style scoped>\n",
       "    .dataframe tbody tr th:only-of-type {\n",
       "        vertical-align: middle;\n",
       "    }\n",
       "\n",
       "    .dataframe tbody tr th {\n",
       "        vertical-align: top;\n",
       "    }\n",
       "\n",
       "    .dataframe thead th {\n",
       "        text-align: right;\n",
       "    }\n",
       "</style>\n",
       "<table border=\"1\" class=\"dataframe\">\n",
       "  <thead>\n",
       "    <tr style=\"text-align: right;\">\n",
       "      <th></th>\n",
       "      <th>id</th>\n",
       "      <th>age</th>\n",
       "      <th>income</th>\n",
       "      <th>owner</th>\n",
       "    </tr>\n",
       "  </thead>\n",
       "  <tbody>\n",
       "    <tr>\n",
       "      <th>0</th>\n",
       "      <td>1</td>\n",
       "      <td>23</td>\n",
       "      <td>23113</td>\n",
       "      <td>1</td>\n",
       "    </tr>\n",
       "    <tr>\n",
       "      <th>1</th>\n",
       "      <td>2</td>\n",
       "      <td>24</td>\n",
       "      <td>20000</td>\n",
       "      <td>0</td>\n",
       "    </tr>\n",
       "    <tr>\n",
       "      <th>2</th>\n",
       "      <td>3</td>\n",
       "      <td>45</td>\n",
       "      <td>72000</td>\n",
       "      <td>1</td>\n",
       "    </tr>\n",
       "  </tbody>\n",
       "</table>\n",
       "</div>"
      ],
      "text/plain": [
       "   id  age  income  owner\n",
       "0   1   23   23113      1\n",
       "1   2   24   20000      0\n",
       "2   3   45   72000      1"
      ]
     },
     "execution_count": 18,
     "metadata": {},
     "output_type": "execute_result"
    }
   ],
   "source": [
    "path = '../data/owners.csv'\n",
    "owner_df = pd.read_csv(path, na_values = 'NA')\n",
    "print(owner_df.shape)\n",
    "owner_df.head(3)"
   ]
  },
  {
   "cell_type": "code",
   "execution_count": 19,
   "id": "5b8920e9",
   "metadata": {},
   "outputs": [],
   "source": [
    "X_train = owner_df.drop(['id', 'owner'], axis = 1)    # axis = 1 means columns\n",
    "y_train = owner_df.owner"
   ]
  },
  {
   "cell_type": "markdown",
   "id": "109a1456",
   "metadata": {},
   "source": [
    "#### Train the model"
   ]
  },
  {
   "cell_type": "code",
   "execution_count": 20,
   "id": "0300fa26",
   "metadata": {},
   "outputs": [
    {
     "data": {
      "text/plain": [
       "array([[4.86094998e-01, 5.13905002e-01],\n",
       "       [5.85262213e-01, 4.14737787e-01],\n",
       "       [1.51557196e-02, 9.84844280e-01],\n",
       "       [9.27294948e-01, 7.27050520e-02],\n",
       "       [3.76794588e-01, 6.23205412e-01],\n",
       "       [2.67682994e-01, 7.32317006e-01],\n",
       "       [7.99214343e-04, 9.99200786e-01],\n",
       "       [9.72851961e-01, 2.71480392e-02],\n",
       "       [3.19363956e-03, 9.96806360e-01],\n",
       "       [7.90760028e-01, 2.09239972e-01]])"
      ]
     },
     "execution_count": 20,
     "metadata": {},
     "output_type": "execute_result"
    }
   ],
   "source": [
    "log_reg = linear_model.LogisticRegression(C = 1e5, penalty = 'l2')\n",
    "log_reg.fit(X_train, y_train)\n",
    "y_pred = log_reg.predict_proba(X_train)        # predict probabilities\n",
    "y_pred[:10]              "
   ]
  },
  {
   "cell_type": "markdown",
   "id": "4f9f606b",
   "metadata": {},
   "source": [
    "### Validating the model using deciles analysis\n",
    "The output of **`predict_proba`** is a 2D Numpy array where the **second column** is the probability of **owner (1)**,\n",
    "$p(x)$ and the **first column** is probability of **not owner (0)**, $1 - p(x)$. \n",
    "\n",
    "Let's extract $p(x)$ and put in a dataframe along side the target to fascilitate the **decile analysis**."
   ]
  },
  {
   "cell_type": "code",
   "execution_count": 21,
   "id": "15f1d749",
   "metadata": {},
   "outputs": [
    {
     "data": {
      "text/html": [
       "<div>\n",
       "<style scoped>\n",
       "    .dataframe tbody tr th:only-of-type {\n",
       "        vertical-align: middle;\n",
       "    }\n",
       "\n",
       "    .dataframe tbody tr th {\n",
       "        vertical-align: top;\n",
       "    }\n",
       "\n",
       "    .dataframe thead th {\n",
       "        text-align: right;\n",
       "    }\n",
       "</style>\n",
       "<table border=\"1\" class=\"dataframe\">\n",
       "  <thead>\n",
       "    <tr style=\"text-align: right;\">\n",
       "      <th></th>\n",
       "      <th>prob</th>\n",
       "      <th>target</th>\n",
       "    </tr>\n",
       "  </thead>\n",
       "  <tbody>\n",
       "    <tr>\n",
       "      <th>0</th>\n",
       "      <td>0.513905</td>\n",
       "      <td>1</td>\n",
       "    </tr>\n",
       "    <tr>\n",
       "      <th>1</th>\n",
       "      <td>0.414738</td>\n",
       "      <td>0</td>\n",
       "    </tr>\n",
       "    <tr>\n",
       "      <th>2</th>\n",
       "      <td>0.984844</td>\n",
       "      <td>1</td>\n",
       "    </tr>\n",
       "    <tr>\n",
       "      <th>3</th>\n",
       "      <td>0.072705</td>\n",
       "      <td>0</td>\n",
       "    </tr>\n",
       "    <tr>\n",
       "      <th>4</th>\n",
       "      <td>0.623205</td>\n",
       "      <td>1</td>\n",
       "    </tr>\n",
       "  </tbody>\n",
       "</table>\n",
       "</div>"
      ],
      "text/plain": [
       "       prob  target\n",
       "0  0.513905       1\n",
       "1  0.414738       0\n",
       "2  0.984844       1\n",
       "3  0.072705       0\n",
       "4  0.623205       1"
      ]
     },
     "execution_count": 21,
     "metadata": {},
     "output_type": "execute_result"
    }
   ],
   "source": [
    "y_pred_1 = y_pred[:, 1]          \n",
    "dec = pd.DataFrame({'prob': y_pred_1, 'target': y_train})\n",
    "dec.head()"
   ]
  },
  {
   "cell_type": "markdown",
   "id": "22a94409",
   "metadata": {},
   "source": [
    "### Generate the Deciles chart\n",
    "**Decile Analysis** is used to categorize a dataset from **highest to lowest** values or **vice versa** (based on **predicted probabilities**). As evident from the name, the analysis involves **dividing the dataset into ten equal groups**.  A **decile** is any of the **nine** values that divide the sorted data into **ten equal parts**, so that each part represents **1/10** of the sample or population. A **decile** is one possible form of a **quantile** like the **quartile** and **percentile**.\n",
    "\n",
    "**However, because our dataset is very small we will devide it into 4 equal groups**. This is not affect the analysis.\n",
    "\n",
    "#### Helper function to generate ranking groups using `pd.qcut()`\n",
    "We will use **`pd.qcut`** to generate **ranking buckets**."
   ]
  },
  {
   "cell_type": "code",
   "execution_count": 22,
   "id": "4ac4ea3c",
   "metadata": {},
   "outputs": [],
   "source": [
    "def grouping(df, grp_num):\n",
    "    grp = pd.qcut(df['prob'], grp_num, labels = False)      # ranking membership for each score  \n",
    "    df['ranks'] = grp\n",
    "    return df"
   ]
  },
  {
   "cell_type": "code",
   "execution_count": 23,
   "id": "471cfb2a",
   "metadata": {},
   "outputs": [
    {
     "data": {
      "text/html": [
       "<div>\n",
       "<style scoped>\n",
       "    .dataframe tbody tr th:only-of-type {\n",
       "        vertical-align: middle;\n",
       "    }\n",
       "\n",
       "    .dataframe tbody tr th {\n",
       "        vertical-align: top;\n",
       "    }\n",
       "\n",
       "    .dataframe thead th {\n",
       "        text-align: right;\n",
       "    }\n",
       "</style>\n",
       "<table border=\"1\" class=\"dataframe\">\n",
       "  <thead>\n",
       "    <tr style=\"text-align: right;\">\n",
       "      <th></th>\n",
       "      <th>target</th>\n",
       "      <th>prob</th>\n",
       "      <th>ranks</th>\n",
       "    </tr>\n",
       "  </thead>\n",
       "  <tbody>\n",
       "    <tr>\n",
       "      <th>0</th>\n",
       "      <td>1</td>\n",
       "      <td>0.513905</td>\n",
       "      <td>1</td>\n",
       "    </tr>\n",
       "    <tr>\n",
       "      <th>1</th>\n",
       "      <td>0</td>\n",
       "      <td>0.414738</td>\n",
       "      <td>1</td>\n",
       "    </tr>\n",
       "    <tr>\n",
       "      <th>2</th>\n",
       "      <td>1</td>\n",
       "      <td>0.984844</td>\n",
       "      <td>3</td>\n",
       "    </tr>\n",
       "    <tr>\n",
       "      <th>3</th>\n",
       "      <td>0</td>\n",
       "      <td>0.072705</td>\n",
       "      <td>0</td>\n",
       "    </tr>\n",
       "    <tr>\n",
       "      <th>4</th>\n",
       "      <td>1</td>\n",
       "      <td>0.623205</td>\n",
       "      <td>2</td>\n",
       "    </tr>\n",
       "    <tr>\n",
       "      <th>5</th>\n",
       "      <td>1</td>\n",
       "      <td>0.732317</td>\n",
       "      <td>2</td>\n",
       "    </tr>\n",
       "    <tr>\n",
       "      <th>6</th>\n",
       "      <td>1</td>\n",
       "      <td>0.999201</td>\n",
       "      <td>3</td>\n",
       "    </tr>\n",
       "    <tr>\n",
       "      <th>7</th>\n",
       "      <td>0</td>\n",
       "      <td>0.027148</td>\n",
       "      <td>0</td>\n",
       "    </tr>\n",
       "    <tr>\n",
       "      <th>8</th>\n",
       "      <td>1</td>\n",
       "      <td>0.996806</td>\n",
       "      <td>3</td>\n",
       "    </tr>\n",
       "    <tr>\n",
       "      <th>9</th>\n",
       "      <td>0</td>\n",
       "      <td>0.209240</td>\n",
       "      <td>1</td>\n",
       "    </tr>\n",
       "  </tbody>\n",
       "</table>\n",
       "</div>"
      ],
      "text/plain": [
       "   target      prob  ranks\n",
       "0       1  0.513905      1\n",
       "1       0  0.414738      1\n",
       "2       1  0.984844      3\n",
       "3       0  0.072705      0\n",
       "4       1  0.623205      2\n",
       "5       1  0.732317      2\n",
       "6       1  0.999201      3\n",
       "7       0  0.027148      0\n",
       "8       1  0.996806      3\n",
       "9       0  0.209240      1"
      ]
     },
     "execution_count": 23,
     "metadata": {},
     "output_type": "execute_result"
    }
   ],
   "source": [
    "dec_copy = dec.copy()\n",
    "dec_val = grouping(dec_copy, 4)              # we are using 4 groups 0-3 and not the usual 10 groups\n",
    "dec_val[['target', 'prob', 'ranks']].head(10)"
   ]
  },
  {
   "cell_type": "markdown",
   "id": "c477d075",
   "metadata": {},
   "source": [
    "Membership ranks ranges from **0 - 3** with **3** being the **highest or best** ranking and **0** the lowest.\n",
    "### Generate Group chart\n",
    "We shall group the deciles by ranks and get the **mean target** and **mean probability**. The **mean target** will tell us whether we have more **owners(1)** or more **non-owners(0)** in a particular decile. The **mean probability** will indicate whether the group was generally predicted correctly or not. We will also get the number of targets (**owners and non-owners**) in a decile group."
   ]
  },
  {
   "cell_type": "code",
   "execution_count": 24,
   "id": "5eb6215b",
   "metadata": {},
   "outputs": [
    {
     "data": {
      "text/html": [
       "<div>\n",
       "<style scoped>\n",
       "    .dataframe tbody tr th:only-of-type {\n",
       "        vertical-align: middle;\n",
       "    }\n",
       "\n",
       "    .dataframe tbody tr th {\n",
       "        vertical-align: top;\n",
       "    }\n",
       "\n",
       "    .dataframe thead th {\n",
       "        text-align: right;\n",
       "    }\n",
       "</style>\n",
       "<table border=\"1\" class=\"dataframe\">\n",
       "  <thead>\n",
       "    <tr style=\"text-align: right;\">\n",
       "      <th></th>\n",
       "      <th>ranks</th>\n",
       "      <th>target</th>\n",
       "      <th>prob</th>\n",
       "      <th>count</th>\n",
       "    </tr>\n",
       "  </thead>\n",
       "  <tbody>\n",
       "    <tr>\n",
       "      <th>0</th>\n",
       "      <td>3</td>\n",
       "      <td>1.000000</td>\n",
       "      <td>0.979485</td>\n",
       "      <td>7</td>\n",
       "    </tr>\n",
       "    <tr>\n",
       "      <th>1</th>\n",
       "      <td>2</td>\n",
       "      <td>0.714286</td>\n",
       "      <td>0.685659</td>\n",
       "      <td>7</td>\n",
       "    </tr>\n",
       "    <tr>\n",
       "      <th>2</th>\n",
       "      <td>1</td>\n",
       "      <td>0.333333</td>\n",
       "      <td>0.330082</td>\n",
       "      <td>6</td>\n",
       "    </tr>\n",
       "    <tr>\n",
       "      <th>3</th>\n",
       "      <td>0</td>\n",
       "      <td>0.000000</td>\n",
       "      <td>0.045438</td>\n",
       "      <td>8</td>\n",
       "    </tr>\n",
       "  </tbody>\n",
       "</table>\n",
       "</div>"
      ],
      "text/plain": [
       "   ranks    target      prob  count\n",
       "0      3  1.000000  0.979485      7\n",
       "1      2  0.714286  0.685659      7\n",
       "2      1  0.333333  0.330082      6\n",
       "3      0  0.000000  0.045438      8"
      ]
     },
     "execution_count": 24,
     "metadata": {},
     "output_type": "execute_result"
    }
   ],
   "source": [
    "val_grp = dec_val.groupby('ranks')\n",
    "bucket = val_grp[['target', 'prob']].mean()\n",
    "ct = val_grp[['target']].count()                        # count how many members per group\n",
    "#ct = dec_val.ranks.value_counts().sort_index()         # alternatively\n",
    "bucket['count'] = ct\n",
    "\n",
    "bucket = bucket.sort_values(by = 'prob', ascending = False)\n",
    "bucket_df =  bucket.reset_index()\n",
    "bucket_df"
   ]
  },
  {
   "cell_type": "markdown",
   "id": "4d517a61",
   "metadata": {},
   "source": [
    "* In the highest ranked group (**3**) there are **7** persons and the **average target = 1** meaning **everybody** is an **owner(1)**. It also has the **highest** mean probability **0.979485**.\n",
    "\n",
    "* In the second ranked group (**2**) there are **7** persons and the **average target = 0.714286** meaning **71%** of the people are **owner(1)** and **29%** are **non-owner(0)**. That means **29% error**!. This group has the mean probability **0.685659**.\n",
    "\n",
    "* In the lowest ranked group (**0**) there are **8** persons and the **average target = 0** meaning **everybody** is a **non-owner(0)**. It also has the lowest mean probability **0.045438**.\n",
    "\n",
    "In conclusion, the model is not bad. The **probability follows the target** in trend - i.e the **probability is decreasing as we move from highest to lowest rank**.\n",
    "\n",
    "### Visualisation"
   ]
  },
  {
   "cell_type": "code",
   "execution_count": 25,
   "id": "20b29e75",
   "metadata": {},
   "outputs": [
    {
     "data": {
      "image/png": "[encoded data removed]",
      "text/plain": [
       "<Figure size 432x288 with 1 Axes>"
      ]
     },
     "metadata": {},
     "output_type": "display_data"
    }
   ],
   "source": [
    "bucket1 = bucket_df.drop(['count'], axis = 1).set_index(['ranks'])\n",
    "bucket1.plot(kind = 'bar')\n",
    "plt.show()"
   ]
  },
  {
   "cell_type": "markdown",
   "id": "ec4fbd4e",
   "metadata": {},
   "source": [
    "The plot above again demonstrates that the model is working. The **average target** and **average probability** are close to each other in each group. This means that the **error is small**.\n",
    "\n",
    "### Calculate Lift\n",
    "**Lift** is the **ratio of the number of positive observations up to decile `i` using the model to the expected number of positives up to that decile `i` based on a random guesses**. \n",
    "\n",
    "Lift chart is the chart between the **lift on the vertical axis** and the corresponding **decile (rank) on the horizontal axis**. Lift is calculated as follows:\n",
    "\n",
    "$Lift = \\frac{Cummulative number of positive observations upto decile i using ML model}{Cummulative number of positive observations upto decile i using random guesses}$\n",
    "\n",
    "The **Lift Chart measures the effectiveness of models** by calculating the **ratio between the result obtained with a model and the result obtained without a model**."
   ]
  },
  {
   "cell_type": "code",
   "execution_count": 26,
   "id": "a70e9628",
   "metadata": {},
   "outputs": [
    {
     "data": {
      "text/html": [
       "<div>\n",
       "<style scoped>\n",
       "    .dataframe tbody tr th:only-of-type {\n",
       "        vertical-align: middle;\n",
       "    }\n",
       "\n",
       "    .dataframe tbody tr th {\n",
       "        vertical-align: top;\n",
       "    }\n",
       "\n",
       "    .dataframe thead th {\n",
       "        text-align: right;\n",
       "    }\n",
       "</style>\n",
       "<table border=\"1\" class=\"dataframe\">\n",
       "  <thead>\n",
       "    <tr style=\"text-align: right;\">\n",
       "      <th></th>\n",
       "      <th>prob</th>\n",
       "      <th>target</th>\n",
       "      <th>ranks</th>\n",
       "    </tr>\n",
       "  </thead>\n",
       "  <tbody>\n",
       "    <tr>\n",
       "      <th>0</th>\n",
       "      <td>0.513905</td>\n",
       "      <td>1</td>\n",
       "      <td>1</td>\n",
       "    </tr>\n",
       "    <tr>\n",
       "      <th>1</th>\n",
       "      <td>0.414738</td>\n",
       "      <td>0</td>\n",
       "      <td>1</td>\n",
       "    </tr>\n",
       "    <tr>\n",
       "      <th>2</th>\n",
       "      <td>0.984844</td>\n",
       "      <td>1</td>\n",
       "      <td>3</td>\n",
       "    </tr>\n",
       "    <tr>\n",
       "      <th>3</th>\n",
       "      <td>0.072705</td>\n",
       "      <td>0</td>\n",
       "      <td>0</td>\n",
       "    </tr>\n",
       "    <tr>\n",
       "      <th>4</th>\n",
       "      <td>0.623205</td>\n",
       "      <td>1</td>\n",
       "      <td>2</td>\n",
       "    </tr>\n",
       "  </tbody>\n",
       "</table>\n",
       "</div>"
      ],
      "text/plain": [
       "       prob  target  ranks\n",
       "0  0.513905       1      1\n",
       "1  0.414738       0      1\n",
       "2  0.984844       1      3\n",
       "3  0.072705       0      0\n",
       "4  0.623205       1      2"
      ]
     },
     "execution_count": 26,
     "metadata": {},
     "output_type": "execute_result"
    }
   ],
   "source": [
    "dec_val.head()"
   ]
  },
  {
   "cell_type": "code",
   "execution_count": 27,
   "id": "79dacfde",
   "metadata": {},
   "outputs": [
    {
     "data": {
      "text/html": [
       "<div>\n",
       "<style scoped>\n",
       "    .dataframe tbody tr th:only-of-type {\n",
       "        vertical-align: middle;\n",
       "    }\n",
       "\n",
       "    .dataframe tbody tr th {\n",
       "        vertical-align: top;\n",
       "    }\n",
       "\n",
       "    .dataframe thead th {\n",
       "        text-align: right;\n",
       "    }\n",
       "</style>\n",
       "<table border=\"1\" class=\"dataframe\">\n",
       "  <thead>\n",
       "    <tr style=\"text-align: right;\">\n",
       "      <th></th>\n",
       "      <th>target</th>\n",
       "      <th>prob</th>\n",
       "      <th>count</th>\n",
       "    </tr>\n",
       "    <tr>\n",
       "      <th>ranks</th>\n",
       "      <th></th>\n",
       "      <th></th>\n",
       "      <th></th>\n",
       "    </tr>\n",
       "  </thead>\n",
       "  <tbody>\n",
       "    <tr>\n",
       "      <th>3</th>\n",
       "      <td>1.000000</td>\n",
       "      <td>0.979485</td>\n",
       "      <td>7</td>\n",
       "    </tr>\n",
       "    <tr>\n",
       "      <th>2</th>\n",
       "      <td>0.714286</td>\n",
       "      <td>0.685659</td>\n",
       "      <td>7</td>\n",
       "    </tr>\n",
       "    <tr>\n",
       "      <th>1</th>\n",
       "      <td>0.333333</td>\n",
       "      <td>0.330082</td>\n",
       "      <td>6</td>\n",
       "    </tr>\n",
       "    <tr>\n",
       "      <th>0</th>\n",
       "      <td>0.000000</td>\n",
       "      <td>0.045438</td>\n",
       "      <td>8</td>\n",
       "    </tr>\n",
       "  </tbody>\n",
       "</table>\n",
       "</div>"
      ],
      "text/plain": [
       "         target      prob  count\n",
       "ranks                           \n",
       "3      1.000000  0.979485      7\n",
       "2      0.714286  0.685659      7\n",
       "1      0.333333  0.330082      6\n",
       "0      0.000000  0.045438      8"
      ]
     },
     "execution_count": 27,
     "metadata": {},
     "output_type": "execute_result"
    }
   ],
   "source": [
    "bucket.head()"
   ]
  },
  {
   "cell_type": "code",
   "execution_count": 28,
   "id": "029caab6",
   "metadata": {},
   "outputs": [
    {
     "data": {
      "text/html": [
       "<div>\n",
       "<style scoped>\n",
       "    .dataframe tbody tr th:only-of-type {\n",
       "        vertical-align: middle;\n",
       "    }\n",
       "\n",
       "    .dataframe tbody tr th {\n",
       "        vertical-align: top;\n",
       "    }\n",
       "\n",
       "    .dataframe thead th {\n",
       "        text-align: right;\n",
       "    }\n",
       "</style>\n",
       "<table border=\"1\" class=\"dataframe\">\n",
       "  <thead>\n",
       "    <tr style=\"text-align: right;\">\n",
       "      <th></th>\n",
       "      <th>target</th>\n",
       "      <th>prob</th>\n",
       "      <th>count</th>\n",
       "      <th>lift</th>\n",
       "    </tr>\n",
       "    <tr>\n",
       "      <th>ranks</th>\n",
       "      <th></th>\n",
       "      <th></th>\n",
       "      <th></th>\n",
       "      <th></th>\n",
       "    </tr>\n",
       "  </thead>\n",
       "  <tbody>\n",
       "    <tr>\n",
       "      <th>3</th>\n",
       "      <td>1.000000</td>\n",
       "      <td>0.979485</td>\n",
       "      <td>7</td>\n",
       "      <td>200.000000</td>\n",
       "    </tr>\n",
       "    <tr>\n",
       "      <th>2</th>\n",
       "      <td>0.714286</td>\n",
       "      <td>0.685659</td>\n",
       "      <td>7</td>\n",
       "      <td>142.857143</td>\n",
       "    </tr>\n",
       "    <tr>\n",
       "      <th>1</th>\n",
       "      <td>0.333333</td>\n",
       "      <td>0.330082</td>\n",
       "      <td>6</td>\n",
       "      <td>66.666667</td>\n",
       "    </tr>\n",
       "    <tr>\n",
       "      <th>0</th>\n",
       "      <td>0.000000</td>\n",
       "      <td>0.045438</td>\n",
       "      <td>8</td>\n",
       "      <td>0.000000</td>\n",
       "    </tr>\n",
       "  </tbody>\n",
       "</table>\n",
       "</div>"
      ],
      "text/plain": [
       "         target      prob  count        lift\n",
       "ranks                                       \n",
       "3      1.000000  0.979485      7  200.000000\n",
       "2      0.714286  0.685659      7  142.857143\n",
       "1      0.333333  0.330082      6   66.666667\n",
       "0      0.000000  0.045438      8    0.000000"
      ]
     },
     "execution_count": 28,
     "metadata": {},
     "output_type": "execute_result"
    }
   ],
   "source": [
    "target_rate = dec_val.target.mean()                          # mean of all target\n",
    "bucket['lift'] = 100 * bucket['target'] / target_rate        # bucket['target'] is avg target per bucket \n",
    "bucket.head()"
   ]
  },
  {
   "cell_type": "code",
   "execution_count": 29,
   "id": "68a29a65",
   "metadata": {},
   "outputs": [
    {
     "data": {
      "text/html": [
       "<div>\n",
       "<style scoped>\n",
       "    .dataframe tbody tr th:only-of-type {\n",
       "        vertical-align: middle;\n",
       "    }\n",
       "\n",
       "    .dataframe tbody tr th {\n",
       "        vertical-align: top;\n",
       "    }\n",
       "\n",
       "    .dataframe thead th {\n",
       "        text-align: right;\n",
       "    }\n",
       "</style>\n",
       "<table border=\"1\" class=\"dataframe\">\n",
       "  <thead>\n",
       "    <tr style=\"text-align: right;\">\n",
       "      <th></th>\n",
       "      <th>lift</th>\n",
       "    </tr>\n",
       "    <tr>\n",
       "      <th>ranks</th>\n",
       "      <th></th>\n",
       "    </tr>\n",
       "  </thead>\n",
       "  <tbody>\n",
       "    <tr>\n",
       "      <th>3</th>\n",
       "      <td>200.000000</td>\n",
       "    </tr>\n",
       "    <tr>\n",
       "      <th>2</th>\n",
       "      <td>142.857143</td>\n",
       "    </tr>\n",
       "    <tr>\n",
       "      <th>1</th>\n",
       "      <td>66.666667</td>\n",
       "    </tr>\n",
       "    <tr>\n",
       "      <th>0</th>\n",
       "      <td>0.000000</td>\n",
       "    </tr>\n",
       "  </tbody>\n",
       "</table>\n",
       "</div>"
      ],
      "text/plain": [
       "             lift\n",
       "ranks            \n",
       "3      200.000000\n",
       "2      142.857143\n",
       "1       66.666667\n",
       "0        0.000000"
      ]
     },
     "execution_count": 29,
     "metadata": {},
     "output_type": "execute_result"
    }
   ],
   "source": [
    "bucket2 = bucket.drop(['count', 'target', 'prob'], axis = 1)\n",
    "bucket2.head()"
   ]
  },
  {
   "cell_type": "code",
   "execution_count": 30,
   "id": "442233ec",
   "metadata": {},
   "outputs": [
    {
     "data": {
      "image/png": "[encoded data removed]",
      "text/plain": [
       "<Figure size 432x288 with 1 Axes>"
      ]
     },
     "metadata": {},
     "output_type": "display_data"
    }
   ],
   "source": [
    "bucket2.plot(kind = 'bar')\n",
    "plt.show()"
   ]
  },
  {
   "cell_type": "markdown",
   "id": "11663597",
   "metadata": {},
   "source": [
    "The bars show the factor by which **the model outperforms a random assignment of non-owners (0) and owners (1)**. Reading the first bar on the left, we see that taking the **25%** of the records that are ranked by the model as \"the most probable **owners (1)**\" yields about **200%** as many **owners (1)** as would a random selection of **25%** of the records.\n",
    "\n",
    "### Receiver Operating Characteristics(ROC) and Area Under Curve(AUC) \n",
    "The area under the ROC is widely used to validate classification models. The **closer AUC is to 1 or 100% the better the model**."
   ]
  },
  {
   "cell_type": "code",
   "execution_count": 32,
   "id": "864f586c",
   "metadata": {},
   "outputs": [
    {
     "name": "stdout",
     "output_type": "stream",
     "text": [
      "0.923469387755102\n"
     ]
    }
   ],
   "source": [
    "fpr, tpr, thresholds = roc_curve(y_train, y_pred_1)     # fpr = False Positive Rate, tpr = True Positive Rate\n",
    "auc = auc(fpr, tpr)                                     # Area Under Curve\n",
    "print(auc)"
   ]
  },
  {
   "cell_type": "code",
   "execution_count": 33,
   "id": "9b6651a7",
   "metadata": {},
   "outputs": [
    {
     "data": {
      "image/png": "[encoded data removed]",
      "text/plain": [
       "<Figure size 432x288 with 1 Axes>"
      ]
     },
     "metadata": {},
     "output_type": "display_data"
    }
   ],
   "source": [
    "plt.plot(fpr, tpr, 'k--', label = f' ROC (area = {round(auc, 2)})', lw = 2)\n",
    "plt.xlim([-0.05, 1.05])\n",
    "plt.ylim([-0.05, 1.05])\n",
    "plt.xlabel('False Positive Rate')\n",
    "plt.ylabel('True Positive Rate')\n",
    "plt.title('Receiver Operating Characteristics')\n",
    "plt.legend(loc = 'lower right')\n",
    "plt.show()"
   ]
  },
  {
   "cell_type": "markdown",
   "id": "5a4ee5f4",
   "metadata": {},
   "source": [
    "* The **Area Under Curve (AUC)** should higher than **0.5**, the closer it is to **1** the better.\n",
    "* An AUC of **0.5** is the same as **random picking**\n",
    "* A **too high AUC** might be a sign of **overfitting**\n",
    "\n",
    "#### KS distance \n",
    "This is the difference between TPR and FPR. A KS distance of above **40%** is considered good!"
   ]
  },
  {
   "cell_type": "code",
   "execution_count": 34,
   "id": "8f0a7503",
   "metadata": {},
   "outputs": [
    {
     "name": "stdout",
     "output_type": "stream",
     "text": [
      "KS of the model is: 0.7857142857142858\n"
     ]
    }
   ],
   "source": [
    "kss = np.abs(tpr - fpr)             \n",
    "ks = kss.max()                      # max distance\n",
    "print(f'KS of the model is: {ks}')"
   ]
  },
  {
   "cell_type": "code",
   "execution_count": null,
   "id": "a6c02daa",
   "metadata": {},
   "outputs": [],
   "source": []
  }
 ],
 "metadata": {
  "kernelspec": {
   "display_name": "Python 3 (ipykernel)",
   "language": "python",
   "name": "python3"
  },
  "language_info": {
   "codemirror_mode": {
    "name": "ipython",
    "version": 3
   },
   "file_extension": ".py",
   "mimetype": "text/x-python",
   "name": "python",
   "nbconvert_exporter": "python",
   "pygments_lexer": "ipython3",
   "version": "3.9.7"
  }
 },
 "nbformat": 4,
 "nbformat_minor": 5
}
